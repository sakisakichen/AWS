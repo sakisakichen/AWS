{
	"metadata": {
		"kernelspec": {
			"name": "glue_pyspark",
			"display_name": "Glue PySpark",
			"language": "python"
		},
		"language_info": {
			"name": "Python_Glue_Session",
			"mimetype": "text/x-python",
			"codemirror_mode": {
				"name": "python",
				"version": 3
			},
			"pygments_lexer": "python3",
			"file_extension": ".py"
		}
	},
	"nbformat_minor": 4,
	"nbformat": 4,
	"cells": [
		{
			"cell_type": "markdown",
			"source": "# AWS Glue Studio Notebook\n##### You are now running a AWS Glue Studio notebook; To start using your notebook you need to start an AWS Glue Interactive Session.\n",
			"metadata": {
				"editable": true,
				"trusted": true
			}
		},
		{
			"cell_type": "markdown",
			"source": "#### Optional: Run this cell to see available notebook commands (\"magics\").\n",
			"metadata": {
				"editable": true,
				"trusted": true
			}
		},
		{
			"cell_type": "code",
			"source": "%help",
			"metadata": {
				"trusted": true,
				"editable": true
			},
			"execution_count": null,
			"outputs": []
		},
		{
			"cell_type": "markdown",
			"source": "####  Run this cell to set up and start your interactive session.\n",
			"metadata": {
				"editable": true,
				"trusted": true
			}
		},
		{
			"cell_type": "code",
			"source": "%idle_timeout 2880\n%glue_version 4.0\n%worker_type G.1X\n%number_of_workers 5\n\nimport sys\nfrom awsglue.transforms import *\nfrom awsglue.utils import getResolvedOptions\nfrom pyspark.context import SparkContext\nfrom awsglue.context import GlueContext\nfrom awsglue.job import Job\nfrom awsglue.dynamicframe import DynamicFrame\n  \nsc = SparkContext.getOrCreate()\nglueContext = GlueContext(sc)\nspark = glueContext.spark_session\njob = Job(glueContext)",
			"metadata": {
				"trusted": true,
				"editable": true
			},
			"execution_count": 11,
			"outputs": [
				{
					"name": "stderr",
					"text": "You are already connected to a glueetl session 6a1837ef-0b77-4565-bd7c-2eb663fa39ea.\n\nNo change will be made to the current session that is set as glueetl. The session configuration change will apply to newly created sessions.\n",
					"output_type": "stream"
				},
				{
					"name": "stdout",
					"text": "Current idle_timeout is 2880 minutes.\nidle_timeout has been set to 2880 minutes.\n",
					"output_type": "stream"
				},
				{
					"name": "stderr",
					"text": "You are already connected to a glueetl session 6a1837ef-0b77-4565-bd7c-2eb663fa39ea.\n\nNo change will be made to the current session that is set as glueetl. The session configuration change will apply to newly created sessions.\n",
					"output_type": "stream"
				},
				{
					"name": "stdout",
					"text": "Setting Glue version to: 4.0\n",
					"output_type": "stream"
				},
				{
					"name": "stderr",
					"text": "You are already connected to a glueetl session 6a1837ef-0b77-4565-bd7c-2eb663fa39ea.\n\nNo change will be made to the current session that is set as glueetl. The session configuration change will apply to newly created sessions.\n",
					"output_type": "stream"
				},
				{
					"name": "stdout",
					"text": "Previous worker type: G.1X\nSetting new worker type to: G.1X\n",
					"output_type": "stream"
				},
				{
					"name": "stderr",
					"text": "You are already connected to a glueetl session 6a1837ef-0b77-4565-bd7c-2eb663fa39ea.\n\nNo change will be made to the current session that is set as glueetl. The session configuration change will apply to newly created sessions.\n",
					"output_type": "stream"
				},
				{
					"name": "stdout",
					"text": "Previous number of workers: 5\nSetting new number of workers to: 5\n\n",
					"output_type": "stream"
				}
			]
		},
		{
			"cell_type": "code",
			"source": "university_ranking_source = glueContext.create_dynamic_frame.from_catalog(\n    database=\"univ_ranking\",\n    table_name=\"university_ranking_csv\",\n    transformation_ctx=\"UniversityRanking_Source\"\n)",
			"metadata": {
				"trusted": true,
				"tags": []
			},
			"execution_count": 2,
			"outputs": [
				{
					"name": "stdout",
					"text": "\n",
					"output_type": "stream"
				}
			]
		},
		{
			"cell_type": "code",
			"source": "university_ranking_source.show(5)",
			"metadata": {
				"trusted": true,
				"tags": []
			},
			"execution_count": 3,
			"outputs": [
				{
					"name": "stdout",
					"text": "{\"university\": \"Massachusetts Institute of Technology (MIT) \", \"year\": \"2017\", \"rank_display\": \"1\", \"score\": \"100\", \"link\": \"https://www.topuniversities.com/universities/massachusetts-institute-technology-mit\", \"country\": \"United States\", \"city\": \"Cambridge\", \"region\": \"North America\", \"logo\": \"https://www.topuniversities.com/sites/default/files/massachusetts-institute-of-technology-mit_410_small.jpg\", \"type\": \"Private\", \"research_output\": \"Very High\", \"student_faculty_ratio\": \"4\", \"international_students\": \"3,730\", \"size\": \"M\", \"faculty_count\": \"3,065\"}\n{\"university\": \"Stanford University\", \"year\": \"2017\", \"rank_display\": \"2\", \"score\": \"98.7\", \"link\": \"https://www.topuniversities.com/universities/stanford-university\", \"country\": \"United States\", \"city\": \"Stanford\", \"region\": \"North America\", \"logo\": \"https://www.topuniversities.com/sites/default/files/stanford-university_573_small.jpg\", \"type\": \"Private\", \"research_output\": \"Very High\", \"student_faculty_ratio\": \"3\", \"international_students\": \"3,879\", \"size\": \"L\", \"faculty_count\": \"4,725\"}\n{\"university\": \"Harvard University\", \"year\": \"2017\", \"rank_display\": \"3\", \"score\": \"98.3\", \"link\": \"https://www.topuniversities.com/universities/harvard-university\", \"country\": \"United States\", \"city\": \"Cambridge\", \"region\": \"North America\", \"logo\": \"https://www.topuniversities.com/sites/default/files/harvard-university_253_small.jpg\", \"type\": \"Private\", \"research_output\": \"Very High\", \"student_faculty_ratio\": \"5\", \"international_students\": \"5,877\", \"size\": \"L\", \"faculty_count\": \"4,646\"}\n{\"university\": \"University of Cambridge\", \"year\": \"2017\", \"rank_display\": \"4\", \"score\": \"97.2\", \"link\": \"https://www.topuniversities.com/universities/university-cambridge\", \"country\": \"United Kingdom\", \"city\": \"Cambridge\", \"region\": \"Europe\", \"logo\": \"https://www.topuniversities.com/sites/default/files/university-of-cambridge_95_small.jpg\", \"type\": \"Public\", \"research_output\": \"Very high\", \"student_faculty_ratio\": \"4\", \"international_students\": \"7,925\", \"size\": \"L\", \"faculty_count\": \"5,800\"}\n{\"university\": \"California Institute of Technology (Caltech)\", \"year\": \"2017\", \"rank_display\": \"5\", \"score\": \"96.9\", \"link\": \"https://www.topuniversities.com/universities/california-institute-technology-caltech\", \"country\": \"United States\", \"city\": \"Pasadena\", \"region\": \"North America\", \"logo\": \"https://www.topuniversities.com/sites/default/files/california-institute-of-technology-caltech_94_small.jpg\", \"type\": \"Private\", \"research_output\": \"Very High\", \"student_faculty_ratio\": \"2\", \"international_students\": \"692\", \"size\": \"S\", \"faculty_count\": \"968\"}\n",
					"output_type": "stream"
				}
			]
		},
		{
			"cell_type": "code",
			"source": "# to check in the dataframe \nrankings_df = university_ranking_source.toDF()",
			"metadata": {
				"trusted": true,
				"tags": []
			},
			"execution_count": 4,
			"outputs": [
				{
					"name": "stdout",
					"text": "/opt/amazon/spark/python/lib/pyspark.zip/pyspark/sql/dataframe.py:127: UserWarning: DataFrame constructor is internal. Do not directly use it.\n",
					"output_type": "stream"
				}
			]
		},
		{
			"cell_type": "code",
			"source": "rankings_df.show(5)",
			"metadata": {
				"trusted": true,
				"tags": []
			},
			"execution_count": 5,
			"outputs": [
				{
					"name": "stdout",
					"text": "+--------------------+----+------------+-----+--------------------+--------------+---------+-------------+--------------------+-------+---------------+---------------------+----------------------+----+-------------+\n|          university|year|rank_display|score|                link|       country|     city|       region|                logo|   type|research_output|student_faculty_ratio|international_students|size|faculty_count|\n+--------------------+----+------------+-----+--------------------+--------------+---------+-------------+--------------------+-------+---------------+---------------------+----------------------+----+-------------+\n|Massachusetts Ins...|2017|           1|  100|https://www.topun...| United States|Cambridge|North America|https://www.topun...|Private|      Very High|                    4|                 3,730|   M|        3,065|\n| Stanford University|2017|           2| 98.7|https://www.topun...| United States| Stanford|North America|https://www.topun...|Private|      Very High|                    3|                 3,879|   L|        4,725|\n|  Harvard University|2017|           3| 98.3|https://www.topun...| United States|Cambridge|North America|https://www.topun...|Private|      Very High|                    5|                 5,877|   L|        4,646|\n|University of Cam...|2017|           4| 97.2|https://www.topun...|United Kingdom|Cambridge|       Europe|https://www.topun...| Public|      Very high|                    4|                 7,925|   L|        5,800|\n|California Instit...|2017|           5| 96.9|https://www.topun...| United States| Pasadena|North America|https://www.topun...|Private|      Very High|                    2|                   692|   S|          968|\n+--------------------+----+------------+-----+--------------------+--------------+---------+-------------+--------------------+-------+---------------+---------------------+----------------------+----+-------------+\nonly showing top 5 rows\n",
					"output_type": "stream"
				}
			]
		},
		{
			"cell_type": "code",
			"source": "# Create temp view \nrankings_df.createOrReplaceTempView(\"university_ranking\")",
			"metadata": {
				"trusted": true,
				"tags": []
			},
			"execution_count": 6,
			"outputs": [
				{
					"name": "stdout",
					"text": "\n",
					"output_type": "stream"
				}
			]
		},
		{
			"cell_type": "code",
			"source": "spark.sql(\"\"\"SELECT university,year,rank_display,region,country FROM university_ranking\"\"\").show(5)",
			"metadata": {
				"trusted": true,
				"tags": []
			},
			"execution_count": 7,
			"outputs": [
				{
					"name": "stdout",
					"text": "+--------------------+----+------------+-------------+--------------+\n|          university|year|rank_display|       region|       country|\n+--------------------+----+------------+-------------+--------------+\n|Massachusetts Ins...|2017|           1|North America| United States|\n| Stanford University|2017|           2|North America| United States|\n|  Harvard University|2017|           3|North America| United States|\n|University of Cam...|2017|           4|       Europe|United Kingdom|\n|California Instit...|2017|           5|North America| United States|\n+--------------------+----+------------+-------------+--------------+\nonly showing top 5 rows\n",
					"output_type": "stream"
				}
			]
		},
		{
			"cell_type": "code",
			"source": "spark.sql(\"\"\"SELECT university,year,rank_display, int(rank_display) as n_rank,region,country \nFROM university_ranking\"\"\").show(5)",
			"metadata": {
				"trusted": true,
				"tags": []
			},
			"execution_count": 8,
			"outputs": [
				{
					"name": "stdout",
					"text": "+--------------------+----+------------+------+-------------+--------------+\n|          university|year|rank_display|n_rank|       region|       country|\n+--------------------+----+------------+------+-------------+--------------+\n|Massachusetts Ins...|2017|           1|     1|North America| United States|\n| Stanford University|2017|           2|     2|North America| United States|\n|  Harvard University|2017|           3|     3|North America| United States|\n|University of Cam...|2017|           4|     4|       Europe|United Kingdom|\n|California Instit...|2017|           5|     5|North America| United States|\n+--------------------+----+------------+------+-------------+--------------+\nonly showing top 5 rows\n",
					"output_type": "stream"
				}
			]
		},
		{
			"cell_type": "code",
			"source": "# Let's Store the results data frame\n\nclean_rankings_df = spark.sql(\"\"\"SELECT \n    university,\n    coalesce(int(year),9999) as year,\n    rank_display,\n    coalesce(int(split(rank_display,'-')[0]),9999) as n_rank,\n    coalesce(float(score),-1) as score,\n    country, city, region, type,\n    research_output,\n    coalesce(float(student_faculty_ratio),-1) as student_faculty_ratio,\n    coalesce(int(regexp_replace(international_students,'[.,]','')),-1) as international_students,\n    size,\n    coalesce(int(regexp_replace(faculty_count,'[.,]','')),-1) as faculty_count\n    FROM university_ranking\"\"\")",
			"metadata": {
				"trusted": true,
				"tags": []
			},
			"execution_count": 9,
			"outputs": [
				{
					"name": "stdout",
					"text": "\n",
					"output_type": "stream"
				}
			]
		},
		{
			"cell_type": "code",
			"source": "# Convert back to DynamicFrame\nclean_dynamic_frame = DynamicFrame.fromDF(clean_rankings_df, glueContext, \"university_ranking_clean\")\n",
			"metadata": {
				"trusted": true,
				"tags": []
			},
			"execution_count": 12,
			"outputs": [
				{
					"name": "stdout",
					"text": "\n",
					"output_type": "stream"
				}
			]
		},
		{
			"cell_type": "markdown",
			"source": "## store it back to S3 ",
			"metadata": {}
		},
		{
			"cell_type": "code",
			"source": "# Store the clean data back to S3\nuniversity_ranking_destn = glueContext.write_dynamic_frame.from_options(\n    frame=clean_dynamic_frame,\n    connection_type=\"s3\",\n    format=\"csv\",\n    connection_options={\n        \"path\": \"s3://aws-glue-catalog001/university_ranking/csv_clean\",\n        \"partitionKeys\": [],\n    },\n    transformation_ctx=\"university_ranking_dest\",\n)",
			"metadata": {
				"trusted": true,
				"tags": []
			},
			"execution_count": 13,
			"outputs": [
				{
					"name": "stdout",
					"text": "\n",
					"output_type": "stream"
				}
			]
		},
		{
			"cell_type": "code",
			"source": "job.commit()",
			"metadata": {
				"trusted": true,
				"tags": []
			},
			"execution_count": 14,
			"outputs": [
				{
					"name": "stdout",
					"text": "\n",
					"output_type": "stream"
				}
			]
		},
		{
			"cell_type": "code",
			"source": "",
			"metadata": {},
			"execution_count": null,
			"outputs": []
		},
		{
			"cell_type": "code",
			"source": "",
			"metadata": {},
			"execution_count": null,
			"outputs": []
		},
		{
			"cell_type": "code",
			"source": "",
			"metadata": {},
			"execution_count": null,
			"outputs": []
		},
		{
			"cell_type": "code",
			"source": "",
			"metadata": {},
			"execution_count": null,
			"outputs": []
		},
		{
			"cell_type": "code",
			"source": "",
			"metadata": {},
			"execution_count": null,
			"outputs": []
		},
		{
			"cell_type": "code",
			"source": "",
			"metadata": {},
			"execution_count": null,
			"outputs": []
		},
		{
			"cell_type": "code",
			"source": "",
			"metadata": {},
			"execution_count": null,
			"outputs": []
		}
	]
}